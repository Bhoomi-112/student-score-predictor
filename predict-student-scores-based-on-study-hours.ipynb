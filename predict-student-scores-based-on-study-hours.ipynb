{
 "cells": [
  {
   "cell_type": "markdown",
   "id": "2110cd6d",
   "metadata": {
    "papermill": {
     "duration": 0.0046,
     "end_time": "2025-06-25T07:55:30.965169",
     "exception": false,
     "start_time": "2025-06-25T07:55:30.960569",
     "status": "completed"
    },
    "tags": []
   },
   "source": [
    "Let's predict students' scores based on their study hours; however, study hours are one of the factors responsible for growth in students' scores or high scores, and the score is not entirely dependent."
   ]
  },
  {
   "cell_type": "markdown",
   "id": "a5b91e73",
   "metadata": {
    "papermill": {
     "duration": 0.003439,
     "end_time": "2025-06-25T07:55:30.972548",
     "exception": false,
     "start_time": "2025-06-25T07:55:30.969109",
     "status": "completed"
    },
    "tags": []
   },
   "source": [
    "Here we are importing pandas,matplotlib.pyplot, seaborn, and numpy\n",
    "\n",
    "***Pandas*:-used to store, clean, and manipulate data.**\n",
    "\n",
    "***matplotlib*:-Used for visualizing data into graphs, charts, etc.**\n",
    "\n",
    "***seaborn*:-it is also a data visualization library build on matplotlib.**\n",
    "\n",
    "***numpy*:-it is a core math library.**\n",
    "\n"
   ]
  },
  {
   "cell_type": "code",
   "execution_count": 1,
   "id": "aeabd3f8",
   "metadata": {
    "execution": {
     "iopub.execute_input": "2025-06-25T07:55:30.981131Z",
     "iopub.status.busy": "2025-06-25T07:55:30.980827Z",
     "iopub.status.idle": "2025-06-25T07:55:35.372770Z",
     "shell.execute_reply": "2025-06-25T07:55:35.371875Z"
    },
    "papermill": {
     "duration": 4.398434,
     "end_time": "2025-06-25T07:55:35.374657",
     "exception": false,
     "start_time": "2025-06-25T07:55:30.976223",
     "status": "completed"
    },
    "tags": []
   },
   "outputs": [],
   "source": [
    "import pandas as pd\n",
    "import matplotlib.pyplot as plt\n",
    "import seaborn as sns\n",
    "import numpy as np\n",
    "from sklearn.linear_model import LinearRegression \n",
    "from sklearn.model_selection import train_test_split as tts\n",
    "from sklearn.metrics import mean_absolute_error, mean_squared_error, r2_score\n"
   ]
  },
  {
   "cell_type": "code",
   "execution_count": 2,
   "id": "fad0897e",
   "metadata": {
    "execution": {
     "iopub.execute_input": "2025-06-25T07:55:35.383658Z",
     "iopub.status.busy": "2025-06-25T07:55:35.383134Z",
     "iopub.status.idle": "2025-06-25T07:55:35.422156Z",
     "shell.execute_reply": "2025-06-25T07:55:35.421066Z"
    },
    "papermill": {
     "duration": 0.045336,
     "end_time": "2025-06-25T07:55:35.423810",
     "exception": false,
     "start_time": "2025-06-25T07:55:35.378474",
     "status": "completed"
    },
    "tags": []
   },
   "outputs": [
    {
     "name": "stdout",
     "output_type": "stream",
     "text": [
      "    Hours  Scores\n",
      "0     1.5      20\n",
      "1     2.0      25\n",
      "2     2.5      30\n",
      "3     3.0      35\n",
      "4     3.5      45\n",
      "5     4.0      50\n",
      "6     4.5      55\n",
      "7     5.0      60\n",
      "8     5.5      65\n",
      "9     6.0      70\n",
      "10    6.5      75\n",
      "11    7.0      80\n",
      "12    7.5      85\n",
      "13    8.0      90\n",
      "14    8.5      92\n",
      "15    9.0      95\n",
      "16    9.5      97\n",
      "17   10.0     100\n"
     ]
    }
   ],
   "source": [
    "\n",
    "# This creates a dataframe\n",
    "# Dataframe is a 2d table-like structure like Google Sheets\n",
    "df = pd.read_csv('/kaggle/input/students-score-and-hour/student_scores.csv')\n",
    "\n",
    "# We are printing the whole data set here just to check if there is any need for cleaning\n",
    "# For starters, we are working on a very small dataset, so we can check if there is need of cleaning or not\n",
    "print(df)\n",
    "\n"
   ]
  },
  {
   "cell_type": "markdown",
   "id": "5b6faedc",
   "metadata": {
    "papermill": {
     "duration": 0.003517,
     "end_time": "2025-06-25T07:55:35.431298",
     "exception": false,
     "start_time": "2025-06-25T07:55:35.427781",
     "status": "completed"
    },
    "tags": []
   },
   "source": [
    "As we can see, the data is clean and there are no missing values or null or undefined values, so we can now move to the visualizing step and skip cleaning, usally cleaning includes, geting satictics values and replacing them with with missing values in some cases"
   ]
  },
  {
   "cell_type": "markdown",
   "id": "4ab00671",
   "metadata": {
    "papermill": {
     "duration": 0.003451,
     "end_time": "2025-06-25T07:55:35.438615",
     "exception": false,
     "start_time": "2025-06-25T07:55:35.435164",
     "status": "completed"
    },
    "tags": []
   },
   "source": [
    "Here we are using scatter plot for visualizing data"
   ]
  },
  {
   "cell_type": "code",
   "execution_count": 3,
   "id": "f06c4606",
   "metadata": {
    "execution": {
     "iopub.execute_input": "2025-06-25T07:55:35.447582Z",
     "iopub.status.busy": "2025-06-25T07:55:35.446892Z",
     "iopub.status.idle": "2025-06-25T07:55:35.731123Z",
     "shell.execute_reply": "2025-06-25T07:55:35.730136Z"
    },
    "papermill": {
     "duration": 0.29052,
     "end_time": "2025-06-25T07:55:35.732785",
     "exception": false,
     "start_time": "2025-06-25T07:55:35.442265",
     "status": "completed"
    },
    "tags": []
   },
   "outputs": [
    {
     "data": {
      "image/png": "[encoded data removed]",
      "text/plain": [
       "<Figure size 640x480 with 1 Axes>"
      ]
     },
     "metadata": {},
     "output_type": "display_data"
    }
   ],
   "source": [
    "\n",
    "# this is a scatter function, this visualize by scattering dots on graph\n",
    "plt.scatter(df['Hours'], df['Scores'],color='blue')\n",
    "\n",
    "# this is title which sets a title for graph\n",
    "plt.title('Study Hours VS Score')\n",
    "\n",
    "# this is x-axis lable\n",
    "plt.xlabel('Hours Studied')\n",
    "\n",
    "# this is y-axis lable\n",
    "plt.ylabel('Score')\n",
    "\n",
    "# this sets grid which makes points easy to see (tho this is optional)\n",
    "plt.grid(True)\n",
    "\n",
    "# finally this shows the graph\n",
    "plt.show()"
   ]
  },
  {
   "cell_type": "markdown",
   "id": "dcab3bf1",
   "metadata": {
    "papermill": {
     "duration": 0.003949,
     "end_time": "2025-06-25T07:55:35.741179",
     "exception": false,
     "start_time": "2025-06-25T07:55:35.737230",
     "status": "completed"
    },
    "tags": []
   },
   "source": [
    "Now that we have visualized the data, let's train our model.\n",
    "\n",
    "But first we have to make 2 components: test and train, for the data to test and not get the model to remember and write it"
   ]
  },
  {
   "cell_type": "code",
   "execution_count": 4,
   "id": "c1d24b57",
   "metadata": {
    "execution": {
     "iopub.execute_input": "2025-06-25T07:55:35.751025Z",
     "iopub.status.busy": "2025-06-25T07:55:35.750732Z",
     "iopub.status.idle": "2025-06-25T07:55:35.758287Z",
     "shell.execute_reply": "2025-06-25T07:55:35.757316Z"
    },
    "papermill": {
     "duration": 0.014409,
     "end_time": "2025-06-25T07:55:35.759890",
     "exception": false,
     "start_time": "2025-06-25T07:55:35.745481",
     "status": "completed"
    },
    "tags": []
   },
   "outputs": [],
   "source": [
    "X = X = df['Hours'].values.reshape(-1, 1)\n",
    "y = df['Scores'].values.reshape(-1, 1)\n",
    "\n",
    "X_train, X_test, y_train, y_test = tts(X, y, test_size=0.2, random_state=42)"
   ]
  },
  {
   "cell_type": "markdown",
   "id": "8ca2728d",
   "metadata": {
    "papermill": {
     "duration": 0.004404,
     "end_time": "2025-06-25T07:55:35.768528",
     "exception": false,
     "start_time": "2025-06-25T07:55:35.764124",
     "status": "completed"
    },
    "tags": []
   },
   "source": [
    "Now that we have divided data into training and test data let's build a model "
   ]
  },
  {
   "cell_type": "code",
   "execution_count": 5,
   "id": "babbb2a8",
   "metadata": {
    "execution": {
     "iopub.execute_input": "2025-06-25T07:55:35.778238Z",
     "iopub.status.busy": "2025-06-25T07:55:35.777910Z",
     "iopub.status.idle": "2025-06-25T07:55:35.804114Z",
     "shell.execute_reply": "2025-06-25T07:55:35.803066Z"
    },
    "papermill": {
     "duration": 0.033181,
     "end_time": "2025-06-25T07:55:35.805920",
     "exception": false,
     "start_time": "2025-06-25T07:55:35.772739",
     "status": "completed"
    },
    "tags": []
   },
   "outputs": [
    {
     "data": {
      "text/html": [
       "<style>#sk-container-id-1 {color: black;background-color: white;}#sk-container-id-1 pre{padding: 0;}#sk-container-id-1 div.sk-toggleable {background-color: white;}#sk-container-id-1 label.sk-toggleable__label {cursor: pointer;display: block;width: 100%;margin-bottom: 0;padding: 0.3em;box-sizing: border-box;text-align: center;}#sk-container-id-1 label.sk-toggleable__label-arrow:before {content: \"▸\";float: left;margin-right: 0.25em;color: #696969;}#sk-container-id-1 label.sk-toggleable__label-arrow:hover:before {color: black;}#sk-container-id-1 div.sk-estimator:hover label.sk-toggleable__label-arrow:before {color: black;}#sk-container-id-1 div.sk-toggleable__content {max-height: 0;max-width: 0;overflow: hidden;text-align: left;background-color: #f0f8ff;}#sk-container-id-1 div.sk-toggleable__content pre {margin: 0.2em;color: black;border-radius: 0.25em;background-color: #f0f8ff;}#sk-container-id-1 input.sk-toggleable__control:checked~div.sk-toggleable__content {max-height: 200px;max-width: 100%;overflow: auto;}#sk-container-id-1 input.sk-toggleable__control:checked~label.sk-toggleable__label-arrow:before {content: \"▾\";}#sk-container-id-1 div.sk-estimator input.sk-toggleable__control:checked~label.sk-toggleable__label {background-color: #d4ebff;}#sk-container-id-1 div.sk-label input.sk-toggleable__control:checked~label.sk-toggleable__label {background-color: #d4ebff;}#sk-container-id-1 input.sk-hidden--visually {border: 0;clip: rect(1px 1px 1px 1px);clip: rect(1px, 1px, 1px, 1px);height: 1px;margin: -1px;overflow: hidden;padding: 0;position: absolute;width: 1px;}#sk-container-id-1 div.sk-estimator {font-family: monospace;background-color: #f0f8ff;border: 1px dotted black;border-radius: 0.25em;box-sizing: border-box;margin-bottom: 0.5em;}#sk-container-id-1 div.sk-estimator:hover {background-color: #d4ebff;}#sk-container-id-1 div.sk-parallel-item::after {content: \"\";width: 100%;border-bottom: 1px solid gray;flex-grow: 1;}#sk-container-id-1 div.sk-label:hover label.sk-toggleable__label {background-color: #d4ebff;}#sk-container-id-1 div.sk-serial::before {content: \"\";position: absolute;border-left: 1px solid gray;box-sizing: border-box;top: 0;bottom: 0;left: 50%;z-index: 0;}#sk-container-id-1 div.sk-serial {display: flex;flex-direction: column;align-items: center;background-color: white;padding-right: 0.2em;padding-left: 0.2em;position: relative;}#sk-container-id-1 div.sk-item {position: relative;z-index: 1;}#sk-container-id-1 div.sk-parallel {display: flex;align-items: stretch;justify-content: center;background-color: white;position: relative;}#sk-container-id-1 div.sk-item::before, #sk-container-id-1 div.sk-parallel-item::before {content: \"\";position: absolute;border-left: 1px solid gray;box-sizing: border-box;top: 0;bottom: 0;left: 50%;z-index: -1;}#sk-container-id-1 div.sk-parallel-item {display: flex;flex-direction: column;z-index: 1;position: relative;background-color: white;}#sk-container-id-1 div.sk-parallel-item:first-child::after {align-self: flex-end;width: 50%;}#sk-container-id-1 div.sk-parallel-item:last-child::after {align-self: flex-start;width: 50%;}#sk-container-id-1 div.sk-parallel-item:only-child::after {width: 0;}#sk-container-id-1 div.sk-dashed-wrapped {border: 1px dashed gray;margin: 0 0.4em 0.5em 0.4em;box-sizing: border-box;padding-bottom: 0.4em;background-color: white;}#sk-container-id-1 div.sk-label label {font-family: monospace;font-weight: bold;display: inline-block;line-height: 1.2em;}#sk-container-id-1 div.sk-label-container {text-align: center;}#sk-container-id-1 div.sk-container {/* jupyter's `normalize.less` sets `[hidden] { display: none; }` but bootstrap.min.css set `[hidden] { display: none !important; }` so we also need the `!important` here to be able to override the default hidden behavior on the sphinx rendered scikit-learn.org. See: https://github.com/scikit-learn/scikit-learn/issues/21755 */display: inline-block !important;position: relative;}#sk-container-id-1 div.sk-text-repr-fallback {display: none;}</style><div id=\"sk-container-id-1\" class=\"sk-top-container\"><div class=\"sk-text-repr-fallback\"><pre>LinearRegression()</pre><b>In a Jupyter environment, please rerun this cell to show the HTML representation or trust the notebook. <br />On GitHub, the HTML representation is unable to render, please try loading this page with nbviewer.org.</b></div><div class=\"sk-container\" hidden><div class=\"sk-item\"><div class=\"sk-estimator sk-toggleable\"><input class=\"sk-toggleable__control sk-hidden--visually\" id=\"sk-estimator-id-1\" type=\"checkbox\" checked><label for=\"sk-estimator-id-1\" class=\"sk-toggleable__label sk-toggleable__label-arrow\">LinearRegression</label><div class=\"sk-toggleable__content\"><pre>LinearRegression()</pre></div></div></div></div></div>"
      ],
      "text/plain": [
       "LinearRegression()"
      ]
     },
     "execution_count": 5,
     "metadata": {},
     "output_type": "execute_result"
    }
   ],
   "source": [
    "# we are creating a model of linear regression so,  we are using a function from scikit \n",
    "# this allows us to create a empty brain \n",
    "model = LinearRegression()\n",
    "\n",
    "# Here we are using fit method to tell our model to check the right equation \n",
    "model.fit(X_train,y_train)\n"
   ]
  },
  {
   "cell_type": "markdown",
   "id": "0fe14cb5",
   "metadata": {
    "papermill": {
     "duration": 0.004149,
     "end_time": "2025-06-25T07:55:35.814892",
     "exception": false,
     "start_time": "2025-06-25T07:55:35.810743",
     "status": "completed"
    },
    "tags": []
   },
   "source": [
    "In this case, the equation will be,\n",
    "Score = m⋅ Hours + c\n",
    "So there will be a straight line with slope m and constant c"
   ]
  },
  {
   "cell_type": "markdown",
   "id": "0f7b0ea6",
   "metadata": {
    "papermill": {
     "duration": 0.004177,
     "end_time": "2025-06-25T07:55:35.823390",
     "exception": false,
     "start_time": "2025-06-25T07:55:35.819213",
     "status": "completed"
    },
    "tags": []
   },
   "source": [
    "Let's check if we are right or not by printing value of m and c"
   ]
  },
  {
   "cell_type": "code",
   "execution_count": 6,
   "id": "dbfec088",
   "metadata": {
    "execution": {
     "iopub.execute_input": "2025-06-25T07:55:35.834721Z",
     "iopub.status.busy": "2025-06-25T07:55:35.833597Z",
     "iopub.status.idle": "2025-06-25T07:55:35.840196Z",
     "shell.execute_reply": "2025-06-25T07:55:35.839115Z"
    },
    "papermill": {
     "duration": 0.014253,
     "end_time": "2025-06-25T07:55:35.841985",
     "exception": false,
     "start_time": "2025-06-25T07:55:35.827732",
     "status": "completed"
    },
    "tags": []
   },
   "outputs": [
    {
     "name": "stdout",
     "output_type": "stream",
     "text": [
      "Slope (m): [9.47561805]\n",
      "Intercept (c): [10.81832615]\n"
     ]
    }
   ],
   "source": [
    "# this shows how much increase will be there for each hour \n",
    "print(\"Slope (m):\", model.coef_[0])\n",
    "# this shows how much a student will score if he study for 0 hour\n",
    "print(\"Intercept (c):\", model.intercept_)\n"
   ]
  },
  {
   "cell_type": "markdown",
   "id": "7b229275",
   "metadata": {
    "papermill": {
     "duration": 0.004148,
     "end_time": "2025-06-25T07:55:35.850703",
     "exception": false,
     "start_time": "2025-06-25T07:55:35.846555",
     "status": "completed"
    },
    "tags": []
   },
   "source": [
    "Great now that we have trained the model, it's time to test it"
   ]
  },
  {
   "cell_type": "code",
   "execution_count": 7,
   "id": "c7ae1f07",
   "metadata": {
    "execution": {
     "iopub.execute_input": "2025-06-25T07:55:35.860808Z",
     "iopub.status.busy": "2025-06-25T07:55:35.860487Z",
     "iopub.status.idle": "2025-06-25T07:55:35.865434Z",
     "shell.execute_reply": "2025-06-25T07:55:35.864499Z"
    },
    "papermill": {
     "duration": 0.011979,
     "end_time": "2025-06-25T07:55:35.867043",
     "exception": false,
     "start_time": "2025-06-25T07:55:35.855064",
     "status": "completed"
    },
    "tags": []
   },
   "outputs": [],
   "source": [
    "# here we are using test variables to predict the score so we can check \n",
    "# and calculate error\n",
    "y_pred = model.predict(X_test)"
   ]
  },
  {
   "cell_type": "markdown",
   "id": "ec6afe9d",
   "metadata": {
    "papermill": {
     "duration": 0.00417,
     "end_time": "2025-06-25T07:55:35.875892",
     "exception": false,
     "start_time": "2025-06-25T07:55:35.871722",
     "status": "completed"
    },
    "tags": []
   },
   "source": [
    "after creating variable we have to test it using 3 factors"
   ]
  },
  {
   "cell_type": "markdown",
   "id": "0dd4fc9c",
   "metadata": {
    "papermill": {
     "duration": 0.004173,
     "end_time": "2025-06-25T07:55:35.884424",
     "exception": false,
     "start_time": "2025-06-25T07:55:35.880251",
     "status": "completed"
    },
    "tags": []
   },
   "source": [
    "**Mean Absolute Error (MAE)**, **Mean Squared Error (MSE)** and **R² Score**\n",
    "\n",
    "Mean Absolute Error (MAE) tells us how much off our predicted score is from the actual score on average \n",
    "\n",
    "Mean Squared Error (MSE) tells us that are there any huge erros that is messing up model\n",
    "\n",
    "R² Score tells us the probability of right prediction"
   ]
  },
  {
   "cell_type": "code",
   "execution_count": 8,
   "id": "05a1a8f8",
   "metadata": {
    "execution": {
     "iopub.execute_input": "2025-06-25T07:55:35.895111Z",
     "iopub.status.busy": "2025-06-25T07:55:35.894423Z",
     "iopub.status.idle": "2025-06-25T07:55:35.902061Z",
     "shell.execute_reply": "2025-06-25T07:55:35.900937Z"
    },
    "papermill": {
     "duration": 0.014996,
     "end_time": "2025-06-25T07:55:35.903753",
     "exception": false,
     "start_time": "2025-06-25T07:55:35.888757",
     "status": "completed"
    },
    "tags": []
   },
   "outputs": [
    {
     "name": "stdout",
     "output_type": "stream",
     "text": [
      "Mean Absolute Error (MAE): 3.2865729190292488\n",
      "Mean Squared Error (MSE): 13.492761512115447\n",
      "R² Score: 0.9600214473715097\n"
     ]
    }
   ],
   "source": [
    "# After predicting, we are checking Mean Absolute Error,\n",
    "# Mean Squared Error (MSE) and R² Score\n",
    "print(\"Mean Absolute Error (MAE):\", mean_absolute_error(y_test, y_pred))\n",
    "print(\"Mean Squared Error (MSE):\", mean_squared_error(y_test, y_pred))\n",
    "print(\"R² Score:\", r2_score(y_test, y_pred))"
   ]
  },
  {
   "cell_type": "markdown",
   "id": "e45c2037",
   "metadata": {
    "papermill": {
     "duration": 0.004207,
     "end_time": "2025-06-25T07:55:35.912611",
     "exception": false,
     "start_time": "2025-06-25T07:55:35.908404",
     "status": "completed"
    },
    "tags": []
   },
   "source": [
    "we got the value, but how will we know if this is good or not?\n",
    "\n",
    "This is the \"We consider this good\" criteria to check if the problem is good or needs more correction\n",
    "\n",
    "MAE < 5 is excellent for this kind of problem\n",
    "R² Score > 0.90 is considered a powerful model\n"
   ]
  },
  {
   "cell_type": "markdown",
   "id": "0327b60c",
   "metadata": {
    "papermill": {
     "duration": 0.004138,
     "end_time": "2025-06-25T07:55:35.921180",
     "exception": false,
     "start_time": "2025-06-25T07:55:35.917042",
     "status": "completed"
    },
    "tags": []
   },
   "source": [
    "Now that we have created a model, tested it it's time to predict some values\n"
   ]
  },
  {
   "cell_type": "code",
   "execution_count": 9,
   "id": "2277e6c3",
   "metadata": {
    "execution": {
     "iopub.execute_input": "2025-06-25T07:55:35.931800Z",
     "iopub.status.busy": "2025-06-25T07:55:35.931047Z",
     "iopub.status.idle": "2025-06-25T07:55:35.937148Z",
     "shell.execute_reply": "2025-06-25T07:55:35.935887Z"
    },
    "papermill": {
     "duration": 0.01314,
     "end_time": "2025-06-25T07:55:35.938845",
     "exception": false,
     "start_time": "2025-06-25T07:55:35.925705",
     "status": "completed"
    },
    "tags": []
   },
   "outputs": [
    {
     "name": "stdout",
     "output_type": "stream",
     "text": [
      "Predicted Score for 6.5 hours: [72.4098435]\n"
     ]
    }
   ],
   "source": [
    "predicted_score = model.predict([[6.5]])\n",
    "print(\"Predicted Score for 6.5 hours:\", predicted_score[0])"
   ]
  },
  {
   "cell_type": "markdown",
   "id": "bdf8af11",
   "metadata": {
    "papermill": {
     "duration": 0.004298,
     "end_time": "2025-06-25T07:55:35.947892",
     "exception": false,
     "start_time": "2025-06-25T07:55:35.943594",
     "status": "completed"
    },
    "tags": []
   },
   "source": [
    "With this, we have successfully created a linear regression model that predicts score based on hours spent studying"
   ]
  }
 ],
 "metadata": {
  "kaggle": {
   "accelerator": "none",
   "dataSources": [
    {
     "datasetId": 7733670,
     "sourceId": 12272223,
     "sourceType": "datasetVersion"
    }
   ],
   "dockerImageVersionId": 31040,
   "isGpuEnabled": false,
   "isInternetEnabled": true,
   "language": "python",
   "sourceType": "notebook"
  },
  "kernelspec": {
   "display_name": "Python 3",
   "language": "python",
   "name": "python3"
  },
  "language_info": {
   "codemirror_mode": {
    "name": "ipython",
    "version": 3
   },
   "file_extension": ".py",
   "mimetype": "text/x-python",
   "name": "python",
   "nbconvert_exporter": "python",
   "pygments_lexer": "ipython3",
   "version": "3.11.11"
  },
  "papermill": {
   "default_parameters": {},
   "duration": 10.606402,
   "end_time": "2025-06-25T07:55:36.673637",
   "environment_variables": {},
   "exception": null,
   "input_path": "__notebook__.ipynb",
   "output_path": "__notebook__.ipynb",
   "parameters": {},
   "start_time": "2025-06-25T07:55:26.067235",
   "version": "2.6.0"
  }
 },
 "nbformat": 4,
 "nbformat_minor": 5
}
